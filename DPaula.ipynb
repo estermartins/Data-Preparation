{
  "nbformat": 4,
  "nbformat_minor": 0,
  "metadata": {
    "colab": {
      "name": "DPaula.ipynb",
      "version": "0.3.2",
      "provenance": [],
      "include_colab_link": true
    },
    "kernelspec": {
      "name": "python3",
      "display_name": "Python 3"
    }
  },
  "cells": [
    {
      "cell_type": "markdown",
      "metadata": {
        "id": "view-in-github",
        "colab_type": "text"
      },
      "source": [
        "<a href=\"https://colab.research.google.com/github/estermartins/Data-Preparation/blob/master/DPaula.ipynb\" target=\"_parent\"><img src=\"https://colab.research.google.com/assets/colab-badge.svg\" alt=\"Open In Colab\"/></a>"
      ]
    },
    {
      "metadata": {
        "id": "ZTozNtDQjVb6",
        "colab_type": "code",
        "colab": {}
      },
      "cell_type": "code",
      "source": [
        "import pandas as pd\n",
        "import numpy as np\n",
        "import matplotlib.pyplot as plt\n",
        "%matplotlib inline"
      ],
      "execution_count": 0,
      "outputs": []
    },
    {
      "metadata": {
        "id": "7ZM6OP9QjzU5",
        "colab_type": "code",
        "colab": {
          "base_uri": "https://localhost:8080/",
          "height": 204
        },
        "outputId": "e92c3885-9609-47da-c370-25d8dfa56b48"
      },
      "cell_type": "code",
      "source": [
        "# Ler dados\n",
        "iris = pd.read_csv(\"https://raw.githubusercontent.com/pandas-dev/pandas/master/pandas/tests/data/iris.csv\")\n",
        "iris.head()"
      ],
      "execution_count": 3,
      "outputs": [
        {
          "output_type": "execute_result",
          "data": {
            "text/html": [
              "<div>\n",
              "<style scoped>\n",
              "    .dataframe tbody tr th:only-of-type {\n",
              "        vertical-align: middle;\n",
              "    }\n",
              "\n",
              "    .dataframe tbody tr th {\n",
              "        vertical-align: top;\n",
              "    }\n",
              "\n",
              "    .dataframe thead th {\n",
              "        text-align: right;\n",
              "    }\n",
              "</style>\n",
              "<table border=\"1\" class=\"dataframe\">\n",
              "  <thead>\n",
              "    <tr style=\"text-align: right;\">\n",
              "      <th></th>\n",
              "      <th>SepalLength</th>\n",
              "      <th>SepalWidth</th>\n",
              "      <th>PetalLength</th>\n",
              "      <th>PetalWidth</th>\n",
              "      <th>Name</th>\n",
              "    </tr>\n",
              "  </thead>\n",
              "  <tbody>\n",
              "    <tr>\n",
              "      <th>0</th>\n",
              "      <td>5.1</td>\n",
              "      <td>3.5</td>\n",
              "      <td>1.4</td>\n",
              "      <td>0.2</td>\n",
              "      <td>Iris-setosa</td>\n",
              "    </tr>\n",
              "    <tr>\n",
              "      <th>1</th>\n",
              "      <td>4.9</td>\n",
              "      <td>3.0</td>\n",
              "      <td>1.4</td>\n",
              "      <td>0.2</td>\n",
              "      <td>Iris-setosa</td>\n",
              "    </tr>\n",
              "    <tr>\n",
              "      <th>2</th>\n",
              "      <td>4.7</td>\n",
              "      <td>3.2</td>\n",
              "      <td>1.3</td>\n",
              "      <td>0.2</td>\n",
              "      <td>Iris-setosa</td>\n",
              "    </tr>\n",
              "    <tr>\n",
              "      <th>3</th>\n",
              "      <td>4.6</td>\n",
              "      <td>3.1</td>\n",
              "      <td>1.5</td>\n",
              "      <td>0.2</td>\n",
              "      <td>Iris-setosa</td>\n",
              "    </tr>\n",
              "    <tr>\n",
              "      <th>4</th>\n",
              "      <td>5.0</td>\n",
              "      <td>3.6</td>\n",
              "      <td>1.4</td>\n",
              "      <td>0.2</td>\n",
              "      <td>Iris-setosa</td>\n",
              "    </tr>\n",
              "  </tbody>\n",
              "</table>\n",
              "</div>"
            ],
            "text/plain": [
              "   SepalLength  SepalWidth  PetalLength  PetalWidth         Name\n",
              "0          5.1         3.5          1.4         0.2  Iris-setosa\n",
              "1          4.9         3.0          1.4         0.2  Iris-setosa\n",
              "2          4.7         3.2          1.3         0.2  Iris-setosa\n",
              "3          4.6         3.1          1.5         0.2  Iris-setosa\n",
              "4          5.0         3.6          1.4         0.2  Iris-setosa"
            ]
          },
          "metadata": {
            "tags": []
          },
          "execution_count": 3
        }
      ]
    },
    {
      "metadata": {
        "id": "hWMJjRLlkTuu",
        "colab_type": "text"
      },
      "cell_type": "markdown",
      "source": [
        "**Selecting Columns **"
      ]
    },
    {
      "metadata": {
        "id": "_GD3E-0jkaNj",
        "colab_type": "code",
        "colab": {
          "base_uri": "https://localhost:8080/",
          "height": 119
        },
        "outputId": "e5cb05ca-29e8-4634-b4a8-c0d34ca2eaf9"
      },
      "cell_type": "code",
      "source": [
        "iris[\"Name\"].head()"
      ],
      "execution_count": 6,
      "outputs": [
        {
          "output_type": "execute_result",
          "data": {
            "text/plain": [
              "0    Iris-setosa\n",
              "1    Iris-setosa\n",
              "2    Iris-setosa\n",
              "3    Iris-setosa\n",
              "4    Iris-setosa\n",
              "Name: Name, dtype: object"
            ]
          },
          "metadata": {
            "tags": []
          },
          "execution_count": 6
        }
      ]
    },
    {
      "metadata": {
        "id": "Y0Ix0uCGkj2J",
        "colab_type": "code",
        "colab": {
          "base_uri": "https://localhost:8080/",
          "height": 204
        },
        "outputId": "8e9508b7-b5c6-41a5-a972-97a4501ef3b6"
      },
      "cell_type": "code",
      "source": [
        "# Selecionando mais de uma \n",
        "iris[[\"SepalLength\", \"Name\"]].head()"
      ],
      "execution_count": 11,
      "outputs": [
        {
          "output_type": "execute_result",
          "data": {
            "text/html": [
              "<div>\n",
              "<style scoped>\n",
              "    .dataframe tbody tr th:only-of-type {\n",
              "        vertical-align: middle;\n",
              "    }\n",
              "\n",
              "    .dataframe tbody tr th {\n",
              "        vertical-align: top;\n",
              "    }\n",
              "\n",
              "    .dataframe thead th {\n",
              "        text-align: right;\n",
              "    }\n",
              "</style>\n",
              "<table border=\"1\" class=\"dataframe\">\n",
              "  <thead>\n",
              "    <tr style=\"text-align: right;\">\n",
              "      <th></th>\n",
              "      <th>SepalLength</th>\n",
              "      <th>Name</th>\n",
              "    </tr>\n",
              "  </thead>\n",
              "  <tbody>\n",
              "    <tr>\n",
              "      <th>0</th>\n",
              "      <td>5.1</td>\n",
              "      <td>Iris-setosa</td>\n",
              "    </tr>\n",
              "    <tr>\n",
              "      <th>1</th>\n",
              "      <td>4.9</td>\n",
              "      <td>Iris-setosa</td>\n",
              "    </tr>\n",
              "    <tr>\n",
              "      <th>2</th>\n",
              "      <td>4.7</td>\n",
              "      <td>Iris-setosa</td>\n",
              "    </tr>\n",
              "    <tr>\n",
              "      <th>3</th>\n",
              "      <td>4.6</td>\n",
              "      <td>Iris-setosa</td>\n",
              "    </tr>\n",
              "    <tr>\n",
              "      <th>4</th>\n",
              "      <td>5.0</td>\n",
              "      <td>Iris-setosa</td>\n",
              "    </tr>\n",
              "  </tbody>\n",
              "</table>\n",
              "</div>"
            ],
            "text/plain": [
              "   SepalLength         Name\n",
              "0          5.1  Iris-setosa\n",
              "1          4.9  Iris-setosa\n",
              "2          4.7  Iris-setosa\n",
              "3          4.6  Iris-setosa\n",
              "4          5.0  Iris-setosa"
            ]
          },
          "metadata": {
            "tags": []
          },
          "execution_count": 11
        }
      ]
    },
    {
      "metadata": {
        "id": "lCApzIUjk4g8",
        "colab_type": "code",
        "colab": {
          "base_uri": "https://localhost:8080/",
          "height": 204
        },
        "outputId": "b7e24dd5-7b86-4a35-f776-61b3f97bffe8"
      },
      "cell_type": "code",
      "source": [
        "iris.drop(columns=[\"SepalLength\", \"Name\"]).head()"
      ],
      "execution_count": 13,
      "outputs": [
        {
          "output_type": "execute_result",
          "data": {
            "text/html": [
              "<div>\n",
              "<style scoped>\n",
              "    .dataframe tbody tr th:only-of-type {\n",
              "        vertical-align: middle;\n",
              "    }\n",
              "\n",
              "    .dataframe tbody tr th {\n",
              "        vertical-align: top;\n",
              "    }\n",
              "\n",
              "    .dataframe thead th {\n",
              "        text-align: right;\n",
              "    }\n",
              "</style>\n",
              "<table border=\"1\" class=\"dataframe\">\n",
              "  <thead>\n",
              "    <tr style=\"text-align: right;\">\n",
              "      <th></th>\n",
              "      <th>SepalWidth</th>\n",
              "      <th>PetalLength</th>\n",
              "      <th>PetalWidth</th>\n",
              "    </tr>\n",
              "  </thead>\n",
              "  <tbody>\n",
              "    <tr>\n",
              "      <th>0</th>\n",
              "      <td>3.5</td>\n",
              "      <td>1.4</td>\n",
              "      <td>0.2</td>\n",
              "    </tr>\n",
              "    <tr>\n",
              "      <th>1</th>\n",
              "      <td>3.0</td>\n",
              "      <td>1.4</td>\n",
              "      <td>0.2</td>\n",
              "    </tr>\n",
              "    <tr>\n",
              "      <th>2</th>\n",
              "      <td>3.2</td>\n",
              "      <td>1.3</td>\n",
              "      <td>0.2</td>\n",
              "    </tr>\n",
              "    <tr>\n",
              "      <th>3</th>\n",
              "      <td>3.1</td>\n",
              "      <td>1.5</td>\n",
              "      <td>0.2</td>\n",
              "    </tr>\n",
              "    <tr>\n",
              "      <th>4</th>\n",
              "      <td>3.6</td>\n",
              "      <td>1.4</td>\n",
              "      <td>0.2</td>\n",
              "    </tr>\n",
              "  </tbody>\n",
              "</table>\n",
              "</div>"
            ],
            "text/plain": [
              "   SepalWidth  PetalLength  PetalWidth\n",
              "0         3.5          1.4         0.2\n",
              "1         3.0          1.4         0.2\n",
              "2         3.2          1.3         0.2\n",
              "3         3.1          1.5         0.2\n",
              "4         3.6          1.4         0.2"
            ]
          },
          "metadata": {
            "tags": []
          },
          "execution_count": 13
        }
      ]
    },
    {
      "metadata": {
        "id": "S2zoVoyglYbp",
        "colab_type": "text"
      },
      "cell_type": "markdown",
      "source": [
        "**Filter rows**"
      ]
    },
    {
      "metadata": {
        "id": "cSBUwkw1lc9x",
        "colab_type": "code",
        "colab": {
          "base_uri": "https://localhost:8080/",
          "height": 119
        },
        "outputId": "ea67cd1d-942c-4fd9-a69c-794c75d2db63"
      },
      "cell_type": "code",
      "source": [
        "# df. loc(linhas, colunas)\n",
        "iris.loc[:, \"Name\"].head()"
      ],
      "execution_count": 14,
      "outputs": [
        {
          "output_type": "execute_result",
          "data": {
            "text/plain": [
              "0    Iris-setosa\n",
              "1    Iris-setosa\n",
              "2    Iris-setosa\n",
              "3    Iris-setosa\n",
              "4    Iris-setosa\n",
              "Name: Name, dtype: object"
            ]
          },
          "metadata": {
            "tags": []
          },
          "execution_count": 14
        }
      ]
    },
    {
      "metadata": {
        "id": "LwYHJDFxls4X",
        "colab_type": "code",
        "colab": {
          "base_uri": "https://localhost:8080/",
          "height": 221
        },
        "outputId": "a93a6841-148f-457f-d556-6c349c83d084"
      },
      "cell_type": "code",
      "source": [
        "# Selecionndo as dez primeiras linhas, dez primeiros casos \n",
        "iris.loc[:10, \"SepalLength\"]"
      ],
      "execution_count": 18,
      "outputs": [
        {
          "output_type": "execute_result",
          "data": {
            "text/plain": [
              "0     5.1\n",
              "1     4.9\n",
              "2     4.7\n",
              "3     4.6\n",
              "4     5.0\n",
              "5     5.4\n",
              "6     4.6\n",
              "7     5.0\n",
              "8     4.4\n",
              "9     4.9\n",
              "10    5.4\n",
              "Name: SepalLength, dtype: float64"
            ]
          },
          "metadata": {
            "tags": []
          },
          "execution_count": 18
        }
      ]
    },
    {
      "metadata": {
        "id": "gScM_gIml6u0",
        "colab_type": "code",
        "colab": {
          "base_uri": "https://localhost:8080/",
          "height": 421
        },
        "outputId": "ea572f61-53e1-48ca-ca6f-200683236538"
      },
      "cell_type": "code",
      "source": [
        "iris.loc[iris[\"SepalLength\"] > 7, [\"SepalLength\", \"Name\"]]"
      ],
      "execution_count": 16,
      "outputs": [
        {
          "output_type": "execute_result",
          "data": {
            "text/html": [
              "<div>\n",
              "<style scoped>\n",
              "    .dataframe tbody tr th:only-of-type {\n",
              "        vertical-align: middle;\n",
              "    }\n",
              "\n",
              "    .dataframe tbody tr th {\n",
              "        vertical-align: top;\n",
              "    }\n",
              "\n",
              "    .dataframe thead th {\n",
              "        text-align: right;\n",
              "    }\n",
              "</style>\n",
              "<table border=\"1\" class=\"dataframe\">\n",
              "  <thead>\n",
              "    <tr style=\"text-align: right;\">\n",
              "      <th></th>\n",
              "      <th>SepalLength</th>\n",
              "      <th>Name</th>\n",
              "    </tr>\n",
              "  </thead>\n",
              "  <tbody>\n",
              "    <tr>\n",
              "      <th>102</th>\n",
              "      <td>7.1</td>\n",
              "      <td>Iris-virginica</td>\n",
              "    </tr>\n",
              "    <tr>\n",
              "      <th>105</th>\n",
              "      <td>7.6</td>\n",
              "      <td>Iris-virginica</td>\n",
              "    </tr>\n",
              "    <tr>\n",
              "      <th>107</th>\n",
              "      <td>7.3</td>\n",
              "      <td>Iris-virginica</td>\n",
              "    </tr>\n",
              "    <tr>\n",
              "      <th>109</th>\n",
              "      <td>7.2</td>\n",
              "      <td>Iris-virginica</td>\n",
              "    </tr>\n",
              "    <tr>\n",
              "      <th>117</th>\n",
              "      <td>7.7</td>\n",
              "      <td>Iris-virginica</td>\n",
              "    </tr>\n",
              "    <tr>\n",
              "      <th>118</th>\n",
              "      <td>7.7</td>\n",
              "      <td>Iris-virginica</td>\n",
              "    </tr>\n",
              "    <tr>\n",
              "      <th>122</th>\n",
              "      <td>7.7</td>\n",
              "      <td>Iris-virginica</td>\n",
              "    </tr>\n",
              "    <tr>\n",
              "      <th>125</th>\n",
              "      <td>7.2</td>\n",
              "      <td>Iris-virginica</td>\n",
              "    </tr>\n",
              "    <tr>\n",
              "      <th>129</th>\n",
              "      <td>7.2</td>\n",
              "      <td>Iris-virginica</td>\n",
              "    </tr>\n",
              "    <tr>\n",
              "      <th>130</th>\n",
              "      <td>7.4</td>\n",
              "      <td>Iris-virginica</td>\n",
              "    </tr>\n",
              "    <tr>\n",
              "      <th>131</th>\n",
              "      <td>7.9</td>\n",
              "      <td>Iris-virginica</td>\n",
              "    </tr>\n",
              "    <tr>\n",
              "      <th>135</th>\n",
              "      <td>7.7</td>\n",
              "      <td>Iris-virginica</td>\n",
              "    </tr>\n",
              "  </tbody>\n",
              "</table>\n",
              "</div>"
            ],
            "text/plain": [
              "     SepalLength            Name\n",
              "102          7.1  Iris-virginica\n",
              "105          7.6  Iris-virginica\n",
              "107          7.3  Iris-virginica\n",
              "109          7.2  Iris-virginica\n",
              "117          7.7  Iris-virginica\n",
              "118          7.7  Iris-virginica\n",
              "122          7.7  Iris-virginica\n",
              "125          7.2  Iris-virginica\n",
              "129          7.2  Iris-virginica\n",
              "130          7.4  Iris-virginica\n",
              "131          7.9  Iris-virginica\n",
              "135          7.7  Iris-virginica"
            ]
          },
          "metadata": {
            "tags": []
          },
          "execution_count": 16
        }
      ]
    },
    {
      "metadata": {
        "id": "BAY81YKQmfzj",
        "colab_type": "code",
        "colab": {
          "base_uri": "https://localhost:8080/",
          "height": 1088
        },
        "outputId": "a58a33f6-26ff-4016-9388-fa91d7e9cac2"
      },
      "cell_type": "code",
      "source": [
        "m = iris[\"SepalLength\"]. mean()\n",
        "print (m)\n",
        "iris.loc[iris[\"SepalLength\"] > m, \"SepalLength\"]"
      ],
      "execution_count": 21,
      "outputs": [
        {
          "output_type": "stream",
          "text": [
            "5.843333333333335\n"
          ],
          "name": "stdout"
        },
        {
          "output_type": "execute_result",
          "data": {
            "text/plain": [
              "50     7.0\n",
              "51     6.4\n",
              "52     6.9\n",
              "54     6.5\n",
              "56     6.3\n",
              "58     6.6\n",
              "61     5.9\n",
              "62     6.0\n",
              "63     6.1\n",
              "65     6.7\n",
              "68     6.2\n",
              "70     5.9\n",
              "71     6.1\n",
              "72     6.3\n",
              "73     6.1\n",
              "74     6.4\n",
              "75     6.6\n",
              "76     6.8\n",
              "77     6.7\n",
              "78     6.0\n",
              "83     6.0\n",
              "85     6.0\n",
              "86     6.7\n",
              "87     6.3\n",
              "91     6.1\n",
              "97     6.2\n",
              "100    6.3\n",
              "102    7.1\n",
              "103    6.3\n",
              "104    6.5\n",
              "      ... \n",
              "118    7.7\n",
              "119    6.0\n",
              "120    6.9\n",
              "122    7.7\n",
              "123    6.3\n",
              "124    6.7\n",
              "125    7.2\n",
              "126    6.2\n",
              "127    6.1\n",
              "128    6.4\n",
              "129    7.2\n",
              "130    7.4\n",
              "131    7.9\n",
              "132    6.4\n",
              "133    6.3\n",
              "134    6.1\n",
              "135    7.7\n",
              "136    6.3\n",
              "137    6.4\n",
              "138    6.0\n",
              "139    6.9\n",
              "140    6.7\n",
              "141    6.9\n",
              "143    6.8\n",
              "144    6.7\n",
              "145    6.7\n",
              "146    6.3\n",
              "147    6.5\n",
              "148    6.2\n",
              "149    5.9\n",
              "Name: SepalLength, Length: 70, dtype: float64"
            ]
          },
          "metadata": {
            "tags": []
          },
          "execution_count": 21
        }
      ]
    },
    {
      "metadata": {
        "id": "wXa-9qQ8nbMg",
        "colab_type": "code",
        "colab": {
          "base_uri": "https://localhost:8080/",
          "height": 850
        },
        "outputId": "39c57c45-7928-491c-e137-3cba2bb477b5"
      },
      "cell_type": "code",
      "source": [
        "iris.loc[(iris[\"SepalLength\"] > 6) & (iris[\"SepalLength\"] < 7) , \"SepalLength\"]"
      ],
      "execution_count": 25,
      "outputs": [
        {
          "output_type": "execute_result",
          "data": {
            "text/plain": [
              "51     6.4\n",
              "52     6.9\n",
              "54     6.5\n",
              "56     6.3\n",
              "58     6.6\n",
              "63     6.1\n",
              "65     6.7\n",
              "68     6.2\n",
              "71     6.1\n",
              "72     6.3\n",
              "73     6.1\n",
              "74     6.4\n",
              "75     6.6\n",
              "76     6.8\n",
              "77     6.7\n",
              "86     6.7\n",
              "87     6.3\n",
              "91     6.1\n",
              "97     6.2\n",
              "100    6.3\n",
              "103    6.3\n",
              "104    6.5\n",
              "108    6.7\n",
              "110    6.5\n",
              "111    6.4\n",
              "112    6.8\n",
              "115    6.4\n",
              "116    6.5\n",
              "120    6.9\n",
              "123    6.3\n",
              "124    6.7\n",
              "126    6.2\n",
              "127    6.1\n",
              "128    6.4\n",
              "132    6.4\n",
              "133    6.3\n",
              "134    6.1\n",
              "136    6.3\n",
              "137    6.4\n",
              "139    6.9\n",
              "140    6.7\n",
              "141    6.9\n",
              "143    6.8\n",
              "144    6.7\n",
              "145    6.7\n",
              "146    6.3\n",
              "147    6.5\n",
              "148    6.2\n",
              "Name: SepalLength, dtype: float64"
            ]
          },
          "metadata": {
            "tags": []
          },
          "execution_count": 25
        }
      ]
    },
    {
      "metadata": {
        "id": "_UBd5nzPoJl1",
        "colab_type": "code",
        "colab": {
          "base_uri": "https://localhost:8080/",
          "height": 34
        },
        "outputId": "5ffeb19a-eec2-4c1c-f5d3-9118aecd5d57"
      },
      "cell_type": "code",
      "source": [
        "iris.loc[(iris[\"SepalLength\"] > 6) & (iris[\"SepalLength\"] < 7) , \"SepalLength\"].shape"
      ],
      "execution_count": 26,
      "outputs": [
        {
          "output_type": "execute_result",
          "data": {
            "text/plain": [
              "(48,)"
            ]
          },
          "metadata": {
            "tags": []
          },
          "execution_count": 26
        }
      ]
    },
    {
      "metadata": {
        "id": "HGimIK3_osTR",
        "colab_type": "text"
      },
      "cell_type": "markdown",
      "source": [
        "**Creating new variables**"
      ]
    },
    {
      "metadata": {
        "id": "OLRCoqoQovvv",
        "colab_type": "code",
        "colab": {
          "base_uri": "https://localhost:8080/",
          "height": 68
        },
        "outputId": "856ba723-aadd-47be-dabc-678bbb15d8ba"
      },
      "cell_type": "code",
      "source": [
        "# We are going to create a new variable called 'Size'. Size = Small\n",
        "# When SepalLength < men and Big when SepalLength >= mean\n",
        "iris[\"Size\"] = \"Small\"\n",
        "iris.loc[iris[\"SepalLength\"] >= iris[\"SepalLength\"].mean(), \"Size\"] = \"Big\"\n",
        "iris[\"Size\"].value_counts()"
      ],
      "execution_count": 27,
      "outputs": [
        {
          "output_type": "execute_result",
          "data": {
            "text/plain": [
              "Small    80\n",
              "Big      70\n",
              "Name: Size, dtype: int64"
            ]
          },
          "metadata": {
            "tags": []
          },
          "execution_count": 27
        }
      ]
    },
    {
      "metadata": {
        "id": "cbvExD25pWwZ",
        "colab_type": "code",
        "colab": {
          "base_uri": "https://localhost:8080/",
          "height": 279
        },
        "outputId": "53661e18-c698-493a-939b-921de01d40b4"
      },
      "cell_type": "code",
      "source": [
        "# Plot a graph, showing big and small\n",
        "fig, ax = plt.subplots()\n",
        "for i in [\"Small\", \"Big\"]: \n",
        "  if i == \"Small\":\n",
        "    ax.scatter (x=iris.loc[iris[\"Size\"] == i, \"SepalLength\"],\n",
        "               y=iris.loc[iris[\"Size\"] == i, \"PetalLength\"],\n",
        "                color=\"blue\", label=i\n",
        "               )\n",
        "  else: ax.scatter (x=iris.loc[iris[\"Size\"] == i, \"SepalLength\"],\n",
        "               y=iris.loc[iris[\"Size\"] == i, \"PetalLength\"],\n",
        "                color=\"green\", label=i\n",
        "               )\n",
        "ax.legend()\n",
        "plt.xlabel(\"SeplLength\")\n",
        "plt.ylabel(\"PetalLength\")\n",
        "plt.show()"
      ],
      "execution_count": 37,
      "outputs": [
        {
          "output_type": "display_data",
          "data": {
            "image/png": "[encoded data removed]",
            "text/plain": [
              "<Figure size 432x288 with 1 Axes>"
            ]
          },
          "metadata": {
            "tags": []
          }
        }
      ]
    }
  ]
}