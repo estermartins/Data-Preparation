{
  "nbformat": 4,
  "nbformat_minor": 0,
  "metadata": {
    "colab": {
      "name": "Exercício_Unbalanced.ipynb",
      "version": "0.3.2",
      "provenance": [],
      "include_colab_link": true
    },
    "kernelspec": {
      "name": "python3",
      "display_name": "Python 3"
    }
  },
  "cells": [
    {
      "cell_type": "markdown",
      "metadata": {
        "id": "view-in-github",
        "colab_type": "text"
      },
      "source": [
        "<a href=\"https://colab.research.google.com/github/estermartins/Data-Preparation/blob/master/Exerc%C3%ADcio_Unbalanced.ipynb\" target=\"_parent\"><img src=\"https://colab.research.google.com/assets/colab-badge.svg\" alt=\"Open In Colab\"/></a>"
      ]
    },
    {
      "cell_type": "markdown",
      "metadata": {
        "id": "E6z6y53V9U8x",
        "colab_type": "text"
      },
      "source": [
        "# Data Preparation\n",
        "\n",
        "## Exercício CHURN - dados desbalanceados\n",
        "\n",
        "Vamos fazer o download doa dados necessários para o exercício de hoje."
      ]
    },
    {
      "cell_type": "code",
      "metadata": {
        "id": "4ah52VzO_SD5",
        "colab_type": "code",
        "colab": {
          "base_uri": "https://localhost:8080/",
          "height": 204
        },
        "outputId": "0d15158f-fe6a-4876-a30d-bb66a6eb2cf3"
      },
      "source": [
        "!wget http://www.vincentlemaire-labs.fr/kddcup2009/orange_small_train.data.zip  # melhora a taxa de transferência"
      ],
      "execution_count": 5,
      "outputs": [
        {
          "output_type": "stream",
          "text": [
            "--2019-06-05 00:21:56--  http://www.vincentlemaire-labs.fr/kddcup2009/orange_small_train.data.zip\n",
            "Resolving www.vincentlemaire-labs.fr (www.vincentlemaire-labs.fr)... 81.169.145.72, 2a01:238:20a:202:1072::\n",
            "Connecting to www.vincentlemaire-labs.fr (www.vincentlemaire-labs.fr)|81.169.145.72|:80... connected.\n",
            "HTTP request sent, awaiting response... 200 OK\n",
            "Length: 8424904 (8.0M) [application/zip]\n",
            "Saving to: ‘orange_small_train.data.zip.1’\n",
            "\n",
            "orange_small_train. 100%[===================>]   8.03M   635KB/s    in 13s     \n",
            "\n",
            "2019-06-05 00:22:09 (625 KB/s) - ‘orange_small_train.data.zip.1’ saved [8424904/8424904]\n",
            "\n"
          ],
          "name": "stdout"
        }
      ]
    },
    {
      "cell_type": "code",
      "metadata": {
        "id": "oa1xNGxU9UH-",
        "colab_type": "code",
        "colab": {
          "base_uri": "https://localhost:8080/",
          "height": 204
        },
        "outputId": "92632dc8-0ca6-4dec-95f1-7d045269c0bb"
      },
      "source": [
        "!wget http://www.vincentlemaire-labs.fr/kddcup2009/orange_small_train_churn.labels"
      ],
      "execution_count": 6,
      "outputs": [
        {
          "output_type": "stream",
          "text": [
            "--2019-06-05 00:22:14--  http://www.vincentlemaire-labs.fr/kddcup2009/orange_small_train_churn.labels\n",
            "Resolving www.vincentlemaire-labs.fr (www.vincentlemaire-labs.fr)... 81.169.145.72, 2a01:238:20a:202:1072::\n",
            "Connecting to www.vincentlemaire-labs.fr (www.vincentlemaire-labs.fr)|81.169.145.72|:80... connected.\n",
            "HTTP request sent, awaiting response... 200 OK\n",
            "Length: 196328 (192K)\n",
            "Saving to: ‘orange_small_train_churn.labels.1’\n",
            "\n",
            "\r          orange_sm   0%[                    ]       0  --.-KB/s               \r         orange_sma  48%[========>           ]  93.95K   462KB/s               \rorange_small_train_ 100%[===================>] 191.73K   629KB/s    in 0.3s    \n",
            "\n",
            "2019-06-05 00:22:14 (629 KB/s) - ‘orange_small_train_churn.labels.1’ saved [196328/196328]\n",
            "\n"
          ],
          "name": "stdout"
        }
      ]
    },
    {
      "cell_type": "code",
      "metadata": {
        "id": "fPFD5rKMAMHw",
        "colab_type": "code",
        "colab": {
          "base_uri": "https://localhost:8080/",
          "height": 51
        },
        "outputId": "f5895979-6af5-49b6-9a49-2b9073d9cba3"
      },
      "source": [
        "!unzip orange_small_train.data.zip"
      ],
      "execution_count": 7,
      "outputs": [
        {
          "output_type": "stream",
          "text": [
            "Archive:  orange_small_train.data.zip\n",
            "replace orange_small_train.data? [y]es, [n]o, [A]ll, [N]one, [r]ename: "
          ],
          "name": "stdout"
        }
      ]
    },
    {
      "cell_type": "code",
      "metadata": {
        "id": "2UqdWHlgAWDQ",
        "colab_type": "code",
        "colab": {
          "base_uri": "https://localhost:8080/",
          "height": 68
        },
        "outputId": "a43c555e-cdae-4d20-cf6d-512fc452e793"
      },
      "source": [
        "!ls"
      ],
      "execution_count": 8,
      "outputs": [
        {
          "output_type": "stream",
          "text": [
            "orange_small_train_churn.labels    orange_small_train.data.cksum  sample_data\n",
            "orange_small_train_churn.labels.1  orange_small_train.data.zip\n",
            "orange_small_train.data\t\t   orange_small_train.data.zip.1\n"
          ],
          "name": "stdout"
        }
      ]
    },
    {
      "cell_type": "markdown",
      "metadata": {
        "id": "w7hH2ttBBZzn",
        "colab_type": "text"
      },
      "source": [
        "### Pré Processamento"
      ]
    },
    {
      "cell_type": "code",
      "metadata": {
        "id": "8hyuz9F6BdCP",
        "colab_type": "code",
        "colab": {}
      },
      "source": [
        "import pandas as pd\n",
        "import numpy as np\n",
        "import matplotlib.pyplot as plt\n",
        "%matplotlib inline"
      ],
      "execution_count": 0,
      "outputs": []
    },
    {
      "cell_type": "code",
      "metadata": {
        "id": "shglBKdGBN6j",
        "colab_type": "code",
        "colab": {}
      },
      "source": [
        "# específicos\n",
        "from imblearn.over_sampling import SMOTE\n",
        "from sklearn.linear_model import LogisticRegressionCV\n",
        "from sklearn.model_selection import train_test_split\n",
        "from sklearn.metrics import accuracy_score, roc_auc_score, confusion_matrix\n",
        "from sklearn.impute import SimpleImputer"
      ],
      "execution_count": 0,
      "outputs": []
    },
    {
      "cell_type": "code",
      "metadata": {
        "id": "8AlMRlNQC2UU",
        "colab_type": "code",
        "colab": {
          "base_uri": "https://localhost:8080/",
          "height": 51
        },
        "outputId": "836a7e01-82e6-4ac9-cd55-72600dcc4432"
      },
      "source": [
        "y = pd.read_csv(\"orange_small_train_churn.labels\", header=None)\n",
        "x = pd.read_csv(\"orange_small_train.data\", sep = \"\\t\") #sep = separador\n",
        "print(y.shape)\n",
        "print(x.shape)"
      ],
      "execution_count": 14,
      "outputs": [
        {
          "output_type": "stream",
          "text": [
            "(50000, 1)\n",
            "(50000, 230)\n"
          ],
          "name": "stdout"
        }
      ]
    },
    {
      "cell_type": "code",
      "metadata": {
        "id": "0VjC77Q4Diyu",
        "colab_type": "code",
        "colab": {
          "base_uri": "https://localhost:8080/",
          "height": 204
        },
        "outputId": "2dfcce00-f9b9-4ecf-9cce-476c750c33ea"
      },
      "source": [
        "y.head()"
      ],
      "execution_count": 15,
      "outputs": [
        {
          "output_type": "execute_result",
          "data": {
            "text/html": [
              "<div>\n",
              "<style scoped>\n",
              "    .dataframe tbody tr th:only-of-type {\n",
              "        vertical-align: middle;\n",
              "    }\n",
              "\n",
              "    .dataframe tbody tr th {\n",
              "        vertical-align: top;\n",
              "    }\n",
              "\n",
              "    .dataframe thead th {\n",
              "        text-align: right;\n",
              "    }\n",
              "</style>\n",
              "<table border=\"1\" class=\"dataframe\">\n",
              "  <thead>\n",
              "    <tr style=\"text-align: right;\">\n",
              "      <th></th>\n",
              "      <th>0</th>\n",
              "    </tr>\n",
              "  </thead>\n",
              "  <tbody>\n",
              "    <tr>\n",
              "      <th>0</th>\n",
              "      <td>-1</td>\n",
              "    </tr>\n",
              "    <tr>\n",
              "      <th>1</th>\n",
              "      <td>1</td>\n",
              "    </tr>\n",
              "    <tr>\n",
              "      <th>2</th>\n",
              "      <td>-1</td>\n",
              "    </tr>\n",
              "    <tr>\n",
              "      <th>3</th>\n",
              "      <td>-1</td>\n",
              "    </tr>\n",
              "    <tr>\n",
              "      <th>4</th>\n",
              "      <td>-1</td>\n",
              "    </tr>\n",
              "  </tbody>\n",
              "</table>\n",
              "</div>"
            ],
            "text/plain": [
              "   0\n",
              "0 -1\n",
              "1  1\n",
              "2 -1\n",
              "3 -1\n",
              "4 -1"
            ]
          },
          "metadata": {
            "tags": []
          },
          "execution_count": 15
        }
      ]
    },
    {
      "cell_type": "code",
      "metadata": {
        "id": "7AU-sLW7DqiT",
        "colab_type": "code",
        "colab": {
          "base_uri": "https://localhost:8080/",
          "height": 253
        },
        "outputId": "ed887e66-f262-4e21-a7e2-4adf24b6b046"
      },
      "source": [
        "x.head() "
      ],
      "execution_count": 16,
      "outputs": [
        {
          "output_type": "execute_result",
          "data": {
            "text/html": [
              "<div>\n",
              "<style scoped>\n",
              "    .dataframe tbody tr th:only-of-type {\n",
              "        vertical-align: middle;\n",
              "    }\n",
              "\n",
              "    .dataframe tbody tr th {\n",
              "        vertical-align: top;\n",
              "    }\n",
              "\n",
              "    .dataframe thead th {\n",
              "        text-align: right;\n",
              "    }\n",
              "</style>\n",
              "<table border=\"1\" class=\"dataframe\">\n",
              "  <thead>\n",
              "    <tr style=\"text-align: right;\">\n",
              "      <th></th>\n",
              "      <th>Var1</th>\n",
              "      <th>Var2</th>\n",
              "      <th>Var3</th>\n",
              "      <th>Var4</th>\n",
              "      <th>Var5</th>\n",
              "      <th>Var6</th>\n",
              "      <th>Var7</th>\n",
              "      <th>Var8</th>\n",
              "      <th>Var9</th>\n",
              "      <th>Var10</th>\n",
              "      <th>Var11</th>\n",
              "      <th>Var12</th>\n",
              "      <th>Var13</th>\n",
              "      <th>Var14</th>\n",
              "      <th>Var15</th>\n",
              "      <th>Var16</th>\n",
              "      <th>Var17</th>\n",
              "      <th>Var18</th>\n",
              "      <th>Var19</th>\n",
              "      <th>Var20</th>\n",
              "      <th>Var21</th>\n",
              "      <th>Var22</th>\n",
              "      <th>Var23</th>\n",
              "      <th>Var24</th>\n",
              "      <th>Var25</th>\n",
              "      <th>Var26</th>\n",
              "      <th>Var27</th>\n",
              "      <th>Var28</th>\n",
              "      <th>Var29</th>\n",
              "      <th>Var30</th>\n",
              "      <th>Var31</th>\n",
              "      <th>Var32</th>\n",
              "      <th>Var33</th>\n",
              "      <th>Var34</th>\n",
              "      <th>Var35</th>\n",
              "      <th>Var36</th>\n",
              "      <th>Var37</th>\n",
              "      <th>Var38</th>\n",
              "      <th>Var39</th>\n",
              "      <th>Var40</th>\n",
              "      <th>...</th>\n",
              "      <th>Var191</th>\n",
              "      <th>Var192</th>\n",
              "      <th>Var193</th>\n",
              "      <th>Var194</th>\n",
              "      <th>Var195</th>\n",
              "      <th>Var196</th>\n",
              "      <th>Var197</th>\n",
              "      <th>Var198</th>\n",
              "      <th>Var199</th>\n",
              "      <th>Var200</th>\n",
              "      <th>Var201</th>\n",
              "      <th>Var202</th>\n",
              "      <th>Var203</th>\n",
              "      <th>Var204</th>\n",
              "      <th>Var205</th>\n",
              "      <th>Var206</th>\n",
              "      <th>Var207</th>\n",
              "      <th>Var208</th>\n",
              "      <th>Var209</th>\n",
              "      <th>Var210</th>\n",
              "      <th>Var211</th>\n",
              "      <th>Var212</th>\n",
              "      <th>Var213</th>\n",
              "      <th>Var214</th>\n",
              "      <th>Var215</th>\n",
              "      <th>Var216</th>\n",
              "      <th>Var217</th>\n",
              "      <th>Var218</th>\n",
              "      <th>Var219</th>\n",
              "      <th>Var220</th>\n",
              "      <th>Var221</th>\n",
              "      <th>Var222</th>\n",
              "      <th>Var223</th>\n",
              "      <th>Var224</th>\n",
              "      <th>Var225</th>\n",
              "      <th>Var226</th>\n",
              "      <th>Var227</th>\n",
              "      <th>Var228</th>\n",
              "      <th>Var229</th>\n",
              "      <th>Var230</th>\n",
              "    </tr>\n",
              "  </thead>\n",
              "  <tbody>\n",
              "    <tr>\n",
              "      <th>0</th>\n",
              "      <td>NaN</td>\n",
              "      <td>NaN</td>\n",
              "      <td>NaN</td>\n",
              "      <td>NaN</td>\n",
              "      <td>NaN</td>\n",
              "      <td>1526.0</td>\n",
              "      <td>7.0</td>\n",
              "      <td>NaN</td>\n",
              "      <td>NaN</td>\n",
              "      <td>NaN</td>\n",
              "      <td>NaN</td>\n",
              "      <td>NaN</td>\n",
              "      <td>184.0</td>\n",
              "      <td>NaN</td>\n",
              "      <td>NaN</td>\n",
              "      <td>NaN</td>\n",
              "      <td>NaN</td>\n",
              "      <td>NaN</td>\n",
              "      <td>NaN</td>\n",
              "      <td>NaN</td>\n",
              "      <td>464.0</td>\n",
              "      <td>580.0</td>\n",
              "      <td>NaN</td>\n",
              "      <td>14.0</td>\n",
              "      <td>128.0</td>\n",
              "      <td>NaN</td>\n",
              "      <td>NaN</td>\n",
              "      <td>166.56</td>\n",
              "      <td>NaN</td>\n",
              "      <td>NaN</td>\n",
              "      <td>NaN</td>\n",
              "      <td>NaN</td>\n",
              "      <td>NaN</td>\n",
              "      <td>NaN</td>\n",
              "      <td>0.0</td>\n",
              "      <td>NaN</td>\n",
              "      <td>NaN</td>\n",
              "      <td>3570.0</td>\n",
              "      <td>NaN</td>\n",
              "      <td>NaN</td>\n",
              "      <td>...</td>\n",
              "      <td>NaN</td>\n",
              "      <td>bZkvyxLkBI</td>\n",
              "      <td>RO12</td>\n",
              "      <td>NaN</td>\n",
              "      <td>taul</td>\n",
              "      <td>1K8T</td>\n",
              "      <td>lK27</td>\n",
              "      <td>ka_ns41</td>\n",
              "      <td>nQUveAzAF7</td>\n",
              "      <td>NaN</td>\n",
              "      <td>NaN</td>\n",
              "      <td>dXGu</td>\n",
              "      <td>9_Y1</td>\n",
              "      <td>FbIm</td>\n",
              "      <td>VpdQ</td>\n",
              "      <td>haYg</td>\n",
              "      <td>me75fM6ugJ</td>\n",
              "      <td>kIsH</td>\n",
              "      <td>NaN</td>\n",
              "      <td>uKAI</td>\n",
              "      <td>L84s</td>\n",
              "      <td>XfqtO3UdzaXh_</td>\n",
              "      <td>NaN</td>\n",
              "      <td>NaN</td>\n",
              "      <td>NaN</td>\n",
              "      <td>XTbPUYD</td>\n",
              "      <td>sH5Z</td>\n",
              "      <td>cJvF</td>\n",
              "      <td>FzaX</td>\n",
              "      <td>1YVfGrO</td>\n",
              "      <td>oslk</td>\n",
              "      <td>fXVEsaq</td>\n",
              "      <td>jySVZNlOJy</td>\n",
              "      <td>NaN</td>\n",
              "      <td>NaN</td>\n",
              "      <td>xb3V</td>\n",
              "      <td>RAYp</td>\n",
              "      <td>F2FyR07IdsN7I</td>\n",
              "      <td>NaN</td>\n",
              "      <td>NaN</td>\n",
              "    </tr>\n",
              "    <tr>\n",
              "      <th>1</th>\n",
              "      <td>NaN</td>\n",
              "      <td>NaN</td>\n",
              "      <td>NaN</td>\n",
              "      <td>NaN</td>\n",
              "      <td>NaN</td>\n",
              "      <td>525.0</td>\n",
              "      <td>0.0</td>\n",
              "      <td>NaN</td>\n",
              "      <td>NaN</td>\n",
              "      <td>NaN</td>\n",
              "      <td>NaN</td>\n",
              "      <td>NaN</td>\n",
              "      <td>0.0</td>\n",
              "      <td>NaN</td>\n",
              "      <td>NaN</td>\n",
              "      <td>NaN</td>\n",
              "      <td>NaN</td>\n",
              "      <td>NaN</td>\n",
              "      <td>NaN</td>\n",
              "      <td>NaN</td>\n",
              "      <td>168.0</td>\n",
              "      <td>210.0</td>\n",
              "      <td>NaN</td>\n",
              "      <td>2.0</td>\n",
              "      <td>24.0</td>\n",
              "      <td>NaN</td>\n",
              "      <td>NaN</td>\n",
              "      <td>353.52</td>\n",
              "      <td>NaN</td>\n",
              "      <td>NaN</td>\n",
              "      <td>NaN</td>\n",
              "      <td>NaN</td>\n",
              "      <td>NaN</td>\n",
              "      <td>NaN</td>\n",
              "      <td>0.0</td>\n",
              "      <td>NaN</td>\n",
              "      <td>NaN</td>\n",
              "      <td>4764966.0</td>\n",
              "      <td>NaN</td>\n",
              "      <td>NaN</td>\n",
              "      <td>...</td>\n",
              "      <td>NaN</td>\n",
              "      <td>CEat0G8rTN</td>\n",
              "      <td>RO12</td>\n",
              "      <td>NaN</td>\n",
              "      <td>taul</td>\n",
              "      <td>1K8T</td>\n",
              "      <td>2Ix5</td>\n",
              "      <td>qEdASpP</td>\n",
              "      <td>y2LIM01bE1</td>\n",
              "      <td>NaN</td>\n",
              "      <td>NaN</td>\n",
              "      <td>lg1t</td>\n",
              "      <td>9_Y1</td>\n",
              "      <td>k13i</td>\n",
              "      <td>sJzTlal</td>\n",
              "      <td>zm5i</td>\n",
              "      <td>me75fM6ugJ</td>\n",
              "      <td>kIsH</td>\n",
              "      <td>NaN</td>\n",
              "      <td>uKAI</td>\n",
              "      <td>L84s</td>\n",
              "      <td>NhsEn4L</td>\n",
              "      <td>NaN</td>\n",
              "      <td>NaN</td>\n",
              "      <td>NaN</td>\n",
              "      <td>kZJyVg2</td>\n",
              "      <td>NaN</td>\n",
              "      <td>NaN</td>\n",
              "      <td>FzaX</td>\n",
              "      <td>0AJo2f2</td>\n",
              "      <td>oslk</td>\n",
              "      <td>2Kb5FSF</td>\n",
              "      <td>LM8l689qOp</td>\n",
              "      <td>NaN</td>\n",
              "      <td>NaN</td>\n",
              "      <td>fKCe</td>\n",
              "      <td>RAYp</td>\n",
              "      <td>F2FyR07IdsN7I</td>\n",
              "      <td>NaN</td>\n",
              "      <td>NaN</td>\n",
              "    </tr>\n",
              "    <tr>\n",
              "      <th>2</th>\n",
              "      <td>NaN</td>\n",
              "      <td>NaN</td>\n",
              "      <td>NaN</td>\n",
              "      <td>NaN</td>\n",
              "      <td>NaN</td>\n",
              "      <td>5236.0</td>\n",
              "      <td>7.0</td>\n",
              "      <td>NaN</td>\n",
              "      <td>NaN</td>\n",
              "      <td>NaN</td>\n",
              "      <td>NaN</td>\n",
              "      <td>NaN</td>\n",
              "      <td>904.0</td>\n",
              "      <td>NaN</td>\n",
              "      <td>NaN</td>\n",
              "      <td>NaN</td>\n",
              "      <td>NaN</td>\n",
              "      <td>NaN</td>\n",
              "      <td>NaN</td>\n",
              "      <td>NaN</td>\n",
              "      <td>1212.0</td>\n",
              "      <td>1515.0</td>\n",
              "      <td>NaN</td>\n",
              "      <td>26.0</td>\n",
              "      <td>816.0</td>\n",
              "      <td>NaN</td>\n",
              "      <td>NaN</td>\n",
              "      <td>220.08</td>\n",
              "      <td>NaN</td>\n",
              "      <td>NaN</td>\n",
              "      <td>NaN</td>\n",
              "      <td>NaN</td>\n",
              "      <td>NaN</td>\n",
              "      <td>NaN</td>\n",
              "      <td>0.0</td>\n",
              "      <td>NaN</td>\n",
              "      <td>NaN</td>\n",
              "      <td>5883894.0</td>\n",
              "      <td>NaN</td>\n",
              "      <td>NaN</td>\n",
              "      <td>...</td>\n",
              "      <td>NaN</td>\n",
              "      <td>eOQt0GoOh3</td>\n",
              "      <td>AERks4l</td>\n",
              "      <td>SEuy</td>\n",
              "      <td>taul</td>\n",
              "      <td>1K8T</td>\n",
              "      <td>ffXs</td>\n",
              "      <td>NldASpP</td>\n",
              "      <td>y4g9XoZ</td>\n",
              "      <td>vynJTq9</td>\n",
              "      <td>smXZ</td>\n",
              "      <td>4bTR</td>\n",
              "      <td>9_Y1</td>\n",
              "      <td>MGOA</td>\n",
              "      <td>VpdQ</td>\n",
              "      <td>haYg</td>\n",
              "      <td>DHn_WUyBhW_whjA88g9bvA64_</td>\n",
              "      <td>kIsH</td>\n",
              "      <td>NaN</td>\n",
              "      <td>uKAI</td>\n",
              "      <td>L84s</td>\n",
              "      <td>UbxQ8lZ</td>\n",
              "      <td>NaN</td>\n",
              "      <td>TTGHfSv</td>\n",
              "      <td>NaN</td>\n",
              "      <td>pMWAe2U</td>\n",
              "      <td>bHR7</td>\n",
              "      <td>UYBR</td>\n",
              "      <td>FzaX</td>\n",
              "      <td>JFM1BiF</td>\n",
              "      <td>Al6ZaUT</td>\n",
              "      <td>NKv4yOc</td>\n",
              "      <td>jySVZNlOJy</td>\n",
              "      <td>NaN</td>\n",
              "      <td>kG3k</td>\n",
              "      <td>Qu4f</td>\n",
              "      <td>02N6s8f</td>\n",
              "      <td>ib5G6X1eUxUn6</td>\n",
              "      <td>am7c</td>\n",
              "      <td>NaN</td>\n",
              "    </tr>\n",
              "    <tr>\n",
              "      <th>3</th>\n",
              "      <td>NaN</td>\n",
              "      <td>NaN</td>\n",
              "      <td>NaN</td>\n",
              "      <td>NaN</td>\n",
              "      <td>NaN</td>\n",
              "      <td>NaN</td>\n",
              "      <td>0.0</td>\n",
              "      <td>NaN</td>\n",
              "      <td>NaN</td>\n",
              "      <td>NaN</td>\n",
              "      <td>NaN</td>\n",
              "      <td>NaN</td>\n",
              "      <td>0.0</td>\n",
              "      <td>NaN</td>\n",
              "      <td>NaN</td>\n",
              "      <td>NaN</td>\n",
              "      <td>NaN</td>\n",
              "      <td>NaN</td>\n",
              "      <td>NaN</td>\n",
              "      <td>NaN</td>\n",
              "      <td>NaN</td>\n",
              "      <td>0.0</td>\n",
              "      <td>NaN</td>\n",
              "      <td>NaN</td>\n",
              "      <td>0.0</td>\n",
              "      <td>NaN</td>\n",
              "      <td>NaN</td>\n",
              "      <td>22.08</td>\n",
              "      <td>NaN</td>\n",
              "      <td>NaN</td>\n",
              "      <td>NaN</td>\n",
              "      <td>NaN</td>\n",
              "      <td>NaN</td>\n",
              "      <td>NaN</td>\n",
              "      <td>0.0</td>\n",
              "      <td>NaN</td>\n",
              "      <td>NaN</td>\n",
              "      <td>0.0</td>\n",
              "      <td>NaN</td>\n",
              "      <td>NaN</td>\n",
              "      <td>...</td>\n",
              "      <td>NaN</td>\n",
              "      <td>jg69tYsGvO</td>\n",
              "      <td>RO12</td>\n",
              "      <td>NaN</td>\n",
              "      <td>taul</td>\n",
              "      <td>1K8T</td>\n",
              "      <td>ssAy</td>\n",
              "      <td>_ybO0dd</td>\n",
              "      <td>4hMlgkf58mhwh</td>\n",
              "      <td>NaN</td>\n",
              "      <td>NaN</td>\n",
              "      <td>W8mQ</td>\n",
              "      <td>9_Y1</td>\n",
              "      <td>YULl</td>\n",
              "      <td>VpdQ</td>\n",
              "      <td>NaN</td>\n",
              "      <td>me75fM6ugJ</td>\n",
              "      <td>kIsH</td>\n",
              "      <td>NaN</td>\n",
              "      <td>uKAI</td>\n",
              "      <td>Mtgm</td>\n",
              "      <td>NhsEn4L</td>\n",
              "      <td>NaN</td>\n",
              "      <td>NaN</td>\n",
              "      <td>NaN</td>\n",
              "      <td>kq0dQfu</td>\n",
              "      <td>eKej</td>\n",
              "      <td>UYBR</td>\n",
              "      <td>FzaX</td>\n",
              "      <td>L91KIiz</td>\n",
              "      <td>oslk</td>\n",
              "      <td>CE7uk3u</td>\n",
              "      <td>LM8l689qOp</td>\n",
              "      <td>NaN</td>\n",
              "      <td>NaN</td>\n",
              "      <td>FSa2</td>\n",
              "      <td>RAYp</td>\n",
              "      <td>F2FyR07IdsN7I</td>\n",
              "      <td>NaN</td>\n",
              "      <td>NaN</td>\n",
              "    </tr>\n",
              "    <tr>\n",
              "      <th>4</th>\n",
              "      <td>NaN</td>\n",
              "      <td>NaN</td>\n",
              "      <td>NaN</td>\n",
              "      <td>NaN</td>\n",
              "      <td>NaN</td>\n",
              "      <td>1029.0</td>\n",
              "      <td>7.0</td>\n",
              "      <td>NaN</td>\n",
              "      <td>NaN</td>\n",
              "      <td>NaN</td>\n",
              "      <td>NaN</td>\n",
              "      <td>NaN</td>\n",
              "      <td>3216.0</td>\n",
              "      <td>NaN</td>\n",
              "      <td>NaN</td>\n",
              "      <td>NaN</td>\n",
              "      <td>NaN</td>\n",
              "      <td>NaN</td>\n",
              "      <td>NaN</td>\n",
              "      <td>NaN</td>\n",
              "      <td>64.0</td>\n",
              "      <td>80.0</td>\n",
              "      <td>NaN</td>\n",
              "      <td>4.0</td>\n",
              "      <td>64.0</td>\n",
              "      <td>NaN</td>\n",
              "      <td>NaN</td>\n",
              "      <td>200.00</td>\n",
              "      <td>NaN</td>\n",
              "      <td>NaN</td>\n",
              "      <td>NaN</td>\n",
              "      <td>NaN</td>\n",
              "      <td>NaN</td>\n",
              "      <td>NaN</td>\n",
              "      <td>0.0</td>\n",
              "      <td>NaN</td>\n",
              "      <td>NaN</td>\n",
              "      <td>0.0</td>\n",
              "      <td>NaN</td>\n",
              "      <td>NaN</td>\n",
              "      <td>...</td>\n",
              "      <td>NaN</td>\n",
              "      <td>IXSgUHShse</td>\n",
              "      <td>RO12</td>\n",
              "      <td>SEuy</td>\n",
              "      <td>taul</td>\n",
              "      <td>1K8T</td>\n",
              "      <td>uNkU</td>\n",
              "      <td>EKR938I</td>\n",
              "      <td>ThrHXVS</td>\n",
              "      <td>0v21jmy</td>\n",
              "      <td>smXZ</td>\n",
              "      <td>xklU</td>\n",
              "      <td>9_Y1</td>\n",
              "      <td>RVjC</td>\n",
              "      <td>sJzTlal</td>\n",
              "      <td>6JmL</td>\n",
              "      <td>me75fM6ugJ</td>\n",
              "      <td>kIsH</td>\n",
              "      <td>NaN</td>\n",
              "      <td>uKAI</td>\n",
              "      <td>L84s</td>\n",
              "      <td>XfqtO3UdzaXh_</td>\n",
              "      <td>NaN</td>\n",
              "      <td>SJs3duv</td>\n",
              "      <td>NaN</td>\n",
              "      <td>11p4mKe</td>\n",
              "      <td>H3p7</td>\n",
              "      <td>UYBR</td>\n",
              "      <td>FzaX</td>\n",
              "      <td>OrnLfvc</td>\n",
              "      <td>oslk</td>\n",
              "      <td>1J2cvxe</td>\n",
              "      <td>LM8l689qOp</td>\n",
              "      <td>NaN</td>\n",
              "      <td>kG3k</td>\n",
              "      <td>FSa2</td>\n",
              "      <td>RAYp</td>\n",
              "      <td>F2FyR07IdsN7I</td>\n",
              "      <td>mj86</td>\n",
              "      <td>NaN</td>\n",
              "    </tr>\n",
              "  </tbody>\n",
              "</table>\n",
              "<p>5 rows × 230 columns</p>\n",
              "</div>"
            ],
            "text/plain": [
              "   Var1  Var2  Var3  Var4  Var5  ...  Var226   Var227         Var228  Var229  Var230\n",
              "0   NaN   NaN   NaN   NaN   NaN  ...    xb3V     RAYp  F2FyR07IdsN7I     NaN     NaN\n",
              "1   NaN   NaN   NaN   NaN   NaN  ...    fKCe     RAYp  F2FyR07IdsN7I     NaN     NaN\n",
              "2   NaN   NaN   NaN   NaN   NaN  ...    Qu4f  02N6s8f  ib5G6X1eUxUn6    am7c     NaN\n",
              "3   NaN   NaN   NaN   NaN   NaN  ...    FSa2     RAYp  F2FyR07IdsN7I     NaN     NaN\n",
              "4   NaN   NaN   NaN   NaN   NaN  ...    FSa2     RAYp  F2FyR07IdsN7I    mj86     NaN\n",
              "\n",
              "[5 rows x 230 columns]"
            ]
          },
          "metadata": {
            "tags": []
          },
          "execution_count": 16
        }
      ]
    },
    {
      "cell_type": "code",
      "metadata": {
        "id": "EsCZq5QkENKa",
        "colab_type": "code",
        "colab": {
          "base_uri": "https://localhost:8080/",
          "height": 1071
        },
        "outputId": "92f3a3a0-b328-4742-ac40-15707560a379"
      },
      "source": [
        "x.dtypes"
      ],
      "execution_count": 18,
      "outputs": [
        {
          "output_type": "execute_result",
          "data": {
            "text/plain": [
              "Var1      float64\n",
              "Var2      float64\n",
              "Var3      float64\n",
              "Var4      float64\n",
              "Var5      float64\n",
              "Var6      float64\n",
              "Var7      float64\n",
              "Var8      float64\n",
              "Var9      float64\n",
              "Var10     float64\n",
              "Var11     float64\n",
              "Var12     float64\n",
              "Var13     float64\n",
              "Var14     float64\n",
              "Var15     float64\n",
              "Var16     float64\n",
              "Var17     float64\n",
              "Var18     float64\n",
              "Var19     float64\n",
              "Var20     float64\n",
              "Var21     float64\n",
              "Var22     float64\n",
              "Var23     float64\n",
              "Var24     float64\n",
              "Var25     float64\n",
              "Var26     float64\n",
              "Var27     float64\n",
              "Var28     float64\n",
              "Var29     float64\n",
              "Var30     float64\n",
              "           ...   \n",
              "Var201     object\n",
              "Var202     object\n",
              "Var203     object\n",
              "Var204     object\n",
              "Var205     object\n",
              "Var206     object\n",
              "Var207     object\n",
              "Var208     object\n",
              "Var209    float64\n",
              "Var210     object\n",
              "Var211     object\n",
              "Var212     object\n",
              "Var213     object\n",
              "Var214     object\n",
              "Var215     object\n",
              "Var216     object\n",
              "Var217     object\n",
              "Var218     object\n",
              "Var219     object\n",
              "Var220     object\n",
              "Var221     object\n",
              "Var222     object\n",
              "Var223     object\n",
              "Var224     object\n",
              "Var225     object\n",
              "Var226     object\n",
              "Var227     object\n",
              "Var228     object\n",
              "Var229     object\n",
              "Var230    float64\n",
              "Length: 230, dtype: object"
            ]
          },
          "metadata": {
            "tags": []
          },
          "execution_count": 18
        }
      ]
    },
    {
      "cell_type": "code",
      "metadata": {
        "id": "p5f4KxEWEYho",
        "colab_type": "code",
        "colab": {
          "base_uri": "https://localhost:8080/",
          "height": 34
        },
        "outputId": "ad086a00-f58b-4a55-94e2-85b2416bdc41"
      },
      "source": [
        "x = x .iloc[:, :50] # diferença de iloc por loc\n",
        "x.shape"
      ],
      "execution_count": 20,
      "outputs": [
        {
          "output_type": "execute_result",
          "data": {
            "text/plain": [
              "(50000, 50)"
            ]
          },
          "metadata": {
            "tags": []
          },
          "execution_count": 20
        }
      ]
    },
    {
      "cell_type": "code",
      "metadata": {
        "id": "Z3Y8pnRNE5Ba",
        "colab_type": "code",
        "colab": {
          "base_uri": "https://localhost:8080/",
          "height": 317
        },
        "outputId": "2780f38c-11d1-4a4d-862a-02870f4fb825"
      },
      "source": [
        "# Como resolver nas de variavel numeirca = imputar media\n",
        "imputer = SimpleImputer(missing_values=np.nan, strategy=\"mean\")\n",
        "x =imputer.fit_transform(x)\n",
        "pd.DataFrame(x).describe()      # se tiver algum NA a contagem vai ser menor que 50.000"
      ],
      "execution_count": 23,
      "outputs": [
        {
          "output_type": "execute_result",
          "data": {
            "text/html": [
              "<div>\n",
              "<style scoped>\n",
              "    .dataframe tbody tr th:only-of-type {\n",
              "        vertical-align: middle;\n",
              "    }\n",
              "\n",
              "    .dataframe tbody tr th {\n",
              "        vertical-align: top;\n",
              "    }\n",
              "\n",
              "    .dataframe thead th {\n",
              "        text-align: right;\n",
              "    }\n",
              "</style>\n",
              "<table border=\"1\" class=\"dataframe\">\n",
              "  <thead>\n",
              "    <tr style=\"text-align: right;\">\n",
              "      <th></th>\n",
              "      <th>0</th>\n",
              "      <th>1</th>\n",
              "      <th>2</th>\n",
              "      <th>3</th>\n",
              "      <th>4</th>\n",
              "      <th>5</th>\n",
              "      <th>6</th>\n",
              "      <th>7</th>\n",
              "      <th>8</th>\n",
              "      <th>9</th>\n",
              "      <th>10</th>\n",
              "      <th>11</th>\n",
              "      <th>12</th>\n",
              "      <th>13</th>\n",
              "      <th>14</th>\n",
              "      <th>15</th>\n",
              "      <th>16</th>\n",
              "      <th>17</th>\n",
              "      <th>18</th>\n",
              "      <th>19</th>\n",
              "      <th>20</th>\n",
              "      <th>21</th>\n",
              "      <th>22</th>\n",
              "      <th>23</th>\n",
              "      <th>24</th>\n",
              "      <th>25</th>\n",
              "      <th>26</th>\n",
              "      <th>27</th>\n",
              "      <th>28</th>\n",
              "      <th>29</th>\n",
              "      <th>30</th>\n",
              "      <th>31</th>\n",
              "      <th>32</th>\n",
              "      <th>33</th>\n",
              "      <th>34</th>\n",
              "      <th>35</th>\n",
              "      <th>36</th>\n",
              "      <th>37</th>\n",
              "      <th>38</th>\n",
              "      <th>39</th>\n",
              "      <th>40</th>\n",
              "      <th>41</th>\n",
              "    </tr>\n",
              "  </thead>\n",
              "  <tbody>\n",
              "    <tr>\n",
              "      <th>count</th>\n",
              "      <td>50000.000000</td>\n",
              "      <td>50000.000000</td>\n",
              "      <td>50000.000000</td>\n",
              "      <td>50000.000000</td>\n",
              "      <td>5.000000e+04</td>\n",
              "      <td>50000.000000</td>\n",
              "      <td>50000.000000</td>\n",
              "      <td>50000.000000</td>\n",
              "      <td>5.000000e+04</td>\n",
              "      <td>50000.000000</td>\n",
              "      <td>50000.000000</td>\n",
              "      <td>50000.000000</td>\n",
              "      <td>50000.000000</td>\n",
              "      <td>50000.000000</td>\n",
              "      <td>50000.000000</td>\n",
              "      <td>50000.000000</td>\n",
              "      <td>50000.000000</td>\n",
              "      <td>50000.000000</td>\n",
              "      <td>50000.000000</td>\n",
              "      <td>50000.000000</td>\n",
              "      <td>50000.000000</td>\n",
              "      <td>50000.000000</td>\n",
              "      <td>50000.000000</td>\n",
              "      <td>50000.000000</td>\n",
              "      <td>50000.000000</td>\n",
              "      <td>50000.000000</td>\n",
              "      <td>50000.000000</td>\n",
              "      <td>5.000000e+04</td>\n",
              "      <td>50000.000000</td>\n",
              "      <td>50000.000000</td>\n",
              "      <td>5.000000e+04</td>\n",
              "      <td>5.000000e+04</td>\n",
              "      <td>5.000000e+04</td>\n",
              "      <td>50000.000000</td>\n",
              "      <td>50000.000000</td>\n",
              "      <td>50000.000000</td>\n",
              "      <td>50000.000000</td>\n",
              "      <td>50000.000000</td>\n",
              "      <td>50000.000000</td>\n",
              "      <td>50000.000000</td>\n",
              "      <td>50000.000000</td>\n",
              "      <td>50000.000000</td>\n",
              "    </tr>\n",
              "    <tr>\n",
              "      <th>mean</th>\n",
              "      <td>11.487179</td>\n",
              "      <td>0.004029</td>\n",
              "      <td>425.298387</td>\n",
              "      <td>0.125396</td>\n",
              "      <td>2.387933e+05</td>\n",
              "      <td>1326.437116</td>\n",
              "      <td>6.809496</td>\n",
              "      <td>48.145299</td>\n",
              "      <td>3.926057e+05</td>\n",
              "      <td>8.625806</td>\n",
              "      <td>16.071685</td>\n",
              "      <td>1249.688401</td>\n",
              "      <td>0.741935</td>\n",
              "      <td>120.239275</td>\n",
              "      <td>11.393287</td>\n",
              "      <td>7.215959</td>\n",
              "      <td>0.245092</td>\n",
              "      <td>234.518225</td>\n",
              "      <td>290.245382</td>\n",
              "      <td>7.535306</td>\n",
              "      <td>4.507926</td>\n",
              "      <td>96.827010</td>\n",
              "      <td>0.070612</td>\n",
              "      <td>0.028245</td>\n",
              "      <td>224.507669</td>\n",
              "      <td>0.022792</td>\n",
              "      <td>7.435897</td>\n",
              "      <td>1.270050e+05</td>\n",
              "      <td>1.173247</td>\n",
              "      <td>0.716810</td>\n",
              "      <td>1.595539e+05</td>\n",
              "      <td>6.485221e+05</td>\n",
              "      <td>2.579107e+06</td>\n",
              "      <td>13.962933</td>\n",
              "      <td>26.653846</td>\n",
              "      <td>4.157937</td>\n",
              "      <td>0.166833</td>\n",
              "      <td>7256.127907</td>\n",
              "      <td>16.796132</td>\n",
              "      <td>2.188034</td>\n",
              "      <td>0.091861</td>\n",
              "      <td>35.690883</td>\n",
              "    </tr>\n",
              "    <tr>\n",
              "      <th>std</th>\n",
              "      <td>4.820354</td>\n",
              "      <td>0.022352</td>\n",
              "      <td>672.206258</td>\n",
              "      <td>0.226593</td>\n",
              "      <td>1.110451e+05</td>\n",
              "      <td>2532.849475</td>\n",
              "      <td>5.965363</td>\n",
              "      <td>18.326822</td>\n",
              "      <td>1.599995e+05</td>\n",
              "      <td>0.451721</td>\n",
              "      <td>6.774604</td>\n",
              "      <td>2635.596185</td>\n",
              "      <td>0.584701</td>\n",
              "      <td>12.479146</td>\n",
              "      <td>8.792738</td>\n",
              "      <td>6.114008</td>\n",
              "      <td>0.316489</td>\n",
              "      <td>533.373831</td>\n",
              "      <td>668.270306</td>\n",
              "      <td>8.524922</td>\n",
              "      <td>9.182934</td>\n",
              "      <td>203.299616</td>\n",
              "      <td>0.091170</td>\n",
              "      <td>0.042618</td>\n",
              "      <td>93.452978</td>\n",
              "      <td>0.025154</td>\n",
              "      <td>1.048196</td>\n",
              "      <td>6.449174e+04</td>\n",
              "      <td>0.689409</td>\n",
              "      <td>2.841975</td>\n",
              "      <td>5.160914e+04</td>\n",
              "      <td>2.455565e+05</td>\n",
              "      <td>2.855321e+06</td>\n",
              "      <td>12.820589</td>\n",
              "      <td>7.322959</td>\n",
              "      <td>3.239461</td>\n",
              "      <td>1.545575</td>\n",
              "      <td>728.717325</td>\n",
              "      <td>11.152436</td>\n",
              "      <td>1.206654</td>\n",
              "      <td>0.138676</td>\n",
              "      <td>15.041819</td>\n",
              "    </tr>\n",
              "    <tr>\n",
              "      <th>min</th>\n",
              "      <td>0.000000</td>\n",
              "      <td>0.000000</td>\n",
              "      <td>0.000000</td>\n",
              "      <td>0.000000</td>\n",
              "      <td>0.000000e+00</td>\n",
              "      <td>0.000000</td>\n",
              "      <td>0.000000</td>\n",
              "      <td>0.000000</td>\n",
              "      <td>0.000000e+00</td>\n",
              "      <td>8.000000</td>\n",
              "      <td>0.000000</td>\n",
              "      <td>0.000000</td>\n",
              "      <td>0.000000</td>\n",
              "      <td>0.000000</td>\n",
              "      <td>0.000000</td>\n",
              "      <td>0.000000</td>\n",
              "      <td>0.000000</td>\n",
              "      <td>0.000000</td>\n",
              "      <td>0.000000</td>\n",
              "      <td>0.000000</td>\n",
              "      <td>0.000000</td>\n",
              "      <td>0.000000</td>\n",
              "      <td>0.000000</td>\n",
              "      <td>0.000000</td>\n",
              "      <td>-66.880000</td>\n",
              "      <td>0.000000</td>\n",
              "      <td>0.000000</td>\n",
              "      <td>0.000000e+00</td>\n",
              "      <td>0.000000</td>\n",
              "      <td>0.000000</td>\n",
              "      <td>0.000000e+00</td>\n",
              "      <td>0.000000e+00</td>\n",
              "      <td>0.000000e+00</td>\n",
              "      <td>0.000000</td>\n",
              "      <td>0.000000</td>\n",
              "      <td>0.000000</td>\n",
              "      <td>0.000000</td>\n",
              "      <td>0.000000</td>\n",
              "      <td>0.000000</td>\n",
              "      <td>0.000000</td>\n",
              "      <td>0.000000</td>\n",
              "      <td>0.000000</td>\n",
              "    </tr>\n",
              "    <tr>\n",
              "      <th>25%</th>\n",
              "      <td>11.487179</td>\n",
              "      <td>0.004029</td>\n",
              "      <td>425.298387</td>\n",
              "      <td>0.125396</td>\n",
              "      <td>2.387933e+05</td>\n",
              "      <td>581.000000</td>\n",
              "      <td>0.000000</td>\n",
              "      <td>48.145299</td>\n",
              "      <td>3.926057e+05</td>\n",
              "      <td>8.625806</td>\n",
              "      <td>16.071685</td>\n",
              "      <td>4.000000</td>\n",
              "      <td>0.741935</td>\n",
              "      <td>120.239275</td>\n",
              "      <td>11.393287</td>\n",
              "      <td>7.215959</td>\n",
              "      <td>0.245092</td>\n",
              "      <td>120.000000</td>\n",
              "      <td>150.000000</td>\n",
              "      <td>7.535306</td>\n",
              "      <td>0.000000</td>\n",
              "      <td>16.000000</td>\n",
              "      <td>0.070612</td>\n",
              "      <td>0.028245</td>\n",
              "      <td>166.560000</td>\n",
              "      <td>0.022792</td>\n",
              "      <td>7.435897</td>\n",
              "      <td>1.270050e+05</td>\n",
              "      <td>1.173247</td>\n",
              "      <td>0.000000</td>\n",
              "      <td>1.595539e+05</td>\n",
              "      <td>6.485221e+05</td>\n",
              "      <td>1.762500e+04</td>\n",
              "      <td>13.962933</td>\n",
              "      <td>26.653846</td>\n",
              "      <td>4.157937</td>\n",
              "      <td>0.000000</td>\n",
              "      <td>7256.127907</td>\n",
              "      <td>16.796132</td>\n",
              "      <td>2.188034</td>\n",
              "      <td>0.091861</td>\n",
              "      <td>35.690883</td>\n",
              "    </tr>\n",
              "    <tr>\n",
              "      <th>50%</th>\n",
              "      <td>11.487179</td>\n",
              "      <td>0.004029</td>\n",
              "      <td>425.298387</td>\n",
              "      <td>0.125396</td>\n",
              "      <td>2.387933e+05</td>\n",
              "      <td>945.000000</td>\n",
              "      <td>7.000000</td>\n",
              "      <td>48.145299</td>\n",
              "      <td>3.926057e+05</td>\n",
              "      <td>8.625806</td>\n",
              "      <td>16.071685</td>\n",
              "      <td>376.000000</td>\n",
              "      <td>0.741935</td>\n",
              "      <td>120.239275</td>\n",
              "      <td>11.393287</td>\n",
              "      <td>7.215959</td>\n",
              "      <td>0.245092</td>\n",
              "      <td>156.000000</td>\n",
              "      <td>190.000000</td>\n",
              "      <td>7.535306</td>\n",
              "      <td>2.000000</td>\n",
              "      <td>56.000000</td>\n",
              "      <td>0.070612</td>\n",
              "      <td>0.028245</td>\n",
              "      <td>220.080000</td>\n",
              "      <td>0.022792</td>\n",
              "      <td>7.435897</td>\n",
              "      <td>1.270050e+05</td>\n",
              "      <td>1.173247</td>\n",
              "      <td>0.000000</td>\n",
              "      <td>1.595539e+05</td>\n",
              "      <td>6.485221e+05</td>\n",
              "      <td>2.073606e+06</td>\n",
              "      <td>13.962933</td>\n",
              "      <td>26.653846</td>\n",
              "      <td>4.157937</td>\n",
              "      <td>0.000000</td>\n",
              "      <td>7256.127907</td>\n",
              "      <td>16.796132</td>\n",
              "      <td>2.188034</td>\n",
              "      <td>0.091861</td>\n",
              "      <td>35.690883</td>\n",
              "    </tr>\n",
              "    <tr>\n",
              "      <th>75%</th>\n",
              "      <td>11.487179</td>\n",
              "      <td>0.004029</td>\n",
              "      <td>425.298387</td>\n",
              "      <td>0.125396</td>\n",
              "      <td>2.387933e+05</td>\n",
              "      <td>1326.437116</td>\n",
              "      <td>7.000000</td>\n",
              "      <td>48.145299</td>\n",
              "      <td>3.926057e+05</td>\n",
              "      <td>8.625806</td>\n",
              "      <td>16.071685</td>\n",
              "      <td>1264.000000</td>\n",
              "      <td>0.741935</td>\n",
              "      <td>120.239275</td>\n",
              "      <td>11.393287</td>\n",
              "      <td>7.215959</td>\n",
              "      <td>0.245092</td>\n",
              "      <td>234.518225</td>\n",
              "      <td>290.245382</td>\n",
              "      <td>7.535306</td>\n",
              "      <td>4.507926</td>\n",
              "      <td>104.000000</td>\n",
              "      <td>0.070612</td>\n",
              "      <td>0.028245</td>\n",
              "      <td>256.960000</td>\n",
              "      <td>0.022792</td>\n",
              "      <td>7.435897</td>\n",
              "      <td>1.270050e+05</td>\n",
              "      <td>1.173247</td>\n",
              "      <td>0.000000</td>\n",
              "      <td>1.595539e+05</td>\n",
              "      <td>6.485221e+05</td>\n",
              "      <td>4.241100e+06</td>\n",
              "      <td>13.962933</td>\n",
              "      <td>26.653846</td>\n",
              "      <td>4.157937</td>\n",
              "      <td>0.000000</td>\n",
              "      <td>7256.127907</td>\n",
              "      <td>16.796132</td>\n",
              "      <td>2.188034</td>\n",
              "      <td>0.091861</td>\n",
              "      <td>35.690883</td>\n",
              "    </tr>\n",
              "    <tr>\n",
              "      <th>max</th>\n",
              "      <td>680.000000</td>\n",
              "      <td>5.000000</td>\n",
              "      <td>130668.000000</td>\n",
              "      <td>27.000000</td>\n",
              "      <td>6.048550e+06</td>\n",
              "      <td>131761.000000</td>\n",
              "      <td>140.000000</td>\n",
              "      <td>2300.000000</td>\n",
              "      <td>1.232559e+07</td>\n",
              "      <td>40.000000</td>\n",
              "      <td>1184.000000</td>\n",
              "      <td>197872.000000</td>\n",
              "      <td>48.000000</td>\n",
              "      <td>434.920000</td>\n",
              "      <td>1220.000000</td>\n",
              "      <td>948.000000</td>\n",
              "      <td>27.000000</td>\n",
              "      <td>36272.000000</td>\n",
              "      <td>45340.000000</td>\n",
              "      <td>1555.000000</td>\n",
              "      <td>494.000000</td>\n",
              "      <td>13168.000000</td>\n",
              "      <td>9.000000</td>\n",
              "      <td>4.000000</td>\n",
              "      <td>5158.560000</td>\n",
              "      <td>2.000000</td>\n",
              "      <td>95.000000</td>\n",
              "      <td>1.088640e+07</td>\n",
              "      <td>56.000000</td>\n",
              "      <td>110.000000</td>\n",
              "      <td>2.419600e+06</td>\n",
              "      <td>1.163502e+07</td>\n",
              "      <td>1.884690e+07</td>\n",
              "      <td>2648.000000</td>\n",
              "      <td>728.000000</td>\n",
              "      <td>625.000000</td>\n",
              "      <td>135.000000</td>\n",
              "      <td>60553.400000</td>\n",
              "      <td>1668.000000</td>\n",
              "      <td>168.000000</td>\n",
              "      <td>18.000000</td>\n",
              "      <td>1660.000000</td>\n",
              "    </tr>\n",
              "  </tbody>\n",
              "</table>\n",
              "</div>"
            ],
            "text/plain": [
              "                 0             1   ...            40            41\n",
              "count  50000.000000  50000.000000  ...  50000.000000  50000.000000\n",
              "mean      11.487179      0.004029  ...      0.091861     35.690883\n",
              "std        4.820354      0.022352  ...      0.138676     15.041819\n",
              "min        0.000000      0.000000  ...      0.000000      0.000000\n",
              "25%       11.487179      0.004029  ...      0.091861     35.690883\n",
              "50%       11.487179      0.004029  ...      0.091861     35.690883\n",
              "75%       11.487179      0.004029  ...      0.091861     35.690883\n",
              "max      680.000000      5.000000  ...     18.000000   1660.000000\n",
              "\n",
              "[8 rows x 42 columns]"
            ]
          },
          "metadata": {
            "tags": []
          },
          "execution_count": 23
        }
      ]
    },
    {
      "cell_type": "markdown",
      "metadata": {
        "id": "buo5GZoaGQMS",
        "colab_type": "text"
      },
      "source": [
        "### Elaboração dos modelos"
      ]
    },
    {
      "cell_type": "code",
      "metadata": {
        "id": "71RlxJqIGUMb",
        "colab_type": "code",
        "colab": {}
      },
      "source": [
        "x_train, x_test, y_train, y_test = train_test_split(x,y , test_size=.3, random_state=3)"
      ],
      "execution_count": 0,
      "outputs": []
    },
    {
      "cell_type": "code",
      "metadata": {
        "id": "IonXO3BEHACJ",
        "colab_type": "code",
        "colab": {
          "base_uri": "https://localhost:8080/",
          "height": 581
        },
        "outputId": "38daeb14-5d92-499d-db20-4e33dfc40625"
      },
      "source": [
        "# Elaborar um modelo de reg Log\n",
        "# Instanciar uma classe do modelo, fit, predict e testar o erro\n",
        "model = LogisticRegressionCV(cv=10)\n",
        "model.fit(x_train, y_train)\n",
        "yhat = model.predict(x_test)"
      ],
      "execution_count": 27,
      "outputs": [
        {
          "output_type": "stream",
          "text": [
            "/usr/local/lib/python3.6/dist-packages/sklearn/utils/validation.py:724: DataConversionWarning: A column-vector y was passed when a 1d array was expected. Please change the shape of y to (n_samples, ), for example using ravel().\n",
            "  y = column_or_1d(y, warn=True)\n",
            "/usr/local/lib/python3.6/dist-packages/sklearn/linear_model/logistic.py:947: ConvergenceWarning: lbfgs failed to converge. Increase the number of iterations.\n",
            "  \"of iterations.\", ConvergenceWarning)\n",
            "/usr/local/lib/python3.6/dist-packages/sklearn/linear_model/logistic.py:947: ConvergenceWarning: lbfgs failed to converge. Increase the number of iterations.\n",
            "  \"of iterations.\", ConvergenceWarning)\n",
            "/usr/local/lib/python3.6/dist-packages/sklearn/linear_model/logistic.py:947: ConvergenceWarning: lbfgs failed to converge. Increase the number of iterations.\n",
            "  \"of iterations.\", ConvergenceWarning)\n",
            "/usr/local/lib/python3.6/dist-packages/sklearn/linear_model/logistic.py:947: ConvergenceWarning: lbfgs failed to converge. Increase the number of iterations.\n",
            "  \"of iterations.\", ConvergenceWarning)\n",
            "/usr/local/lib/python3.6/dist-packages/sklearn/linear_model/logistic.py:947: ConvergenceWarning: lbfgs failed to converge. Increase the number of iterations.\n",
            "  \"of iterations.\", ConvergenceWarning)\n",
            "/usr/local/lib/python3.6/dist-packages/sklearn/linear_model/logistic.py:947: ConvergenceWarning: lbfgs failed to converge. Increase the number of iterations.\n",
            "  \"of iterations.\", ConvergenceWarning)\n",
            "/usr/local/lib/python3.6/dist-packages/sklearn/linear_model/logistic.py:947: ConvergenceWarning: lbfgs failed to converge. Increase the number of iterations.\n",
            "  \"of iterations.\", ConvergenceWarning)\n",
            "/usr/local/lib/python3.6/dist-packages/sklearn/linear_model/logistic.py:947: ConvergenceWarning: lbfgs failed to converge. Increase the number of iterations.\n",
            "  \"of iterations.\", ConvergenceWarning)\n",
            "/usr/local/lib/python3.6/dist-packages/sklearn/linear_model/logistic.py:947: ConvergenceWarning: lbfgs failed to converge. Increase the number of iterations.\n",
            "  \"of iterations.\", ConvergenceWarning)\n",
            "/usr/local/lib/python3.6/dist-packages/sklearn/linear_model/logistic.py:947: ConvergenceWarning: lbfgs failed to converge. Increase the number of iterations.\n",
            "  \"of iterations.\", ConvergenceWarning)\n",
            "/usr/local/lib/python3.6/dist-packages/sklearn/linear_model/logistic.py:947: ConvergenceWarning: lbfgs failed to converge. Increase the number of iterations.\n",
            "  \"of iterations.\", ConvergenceWarning)\n",
            "/usr/local/lib/python3.6/dist-packages/sklearn/linear_model/logistic.py:947: ConvergenceWarning: lbfgs failed to converge. Increase the number of iterations.\n",
            "  \"of iterations.\", ConvergenceWarning)\n",
            "/usr/local/lib/python3.6/dist-packages/sklearn/linear_model/logistic.py:947: ConvergenceWarning: lbfgs failed to converge. Increase the number of iterations.\n",
            "  \"of iterations.\", ConvergenceWarning)\n",
            "/usr/local/lib/python3.6/dist-packages/sklearn/linear_model/logistic.py:947: ConvergenceWarning: lbfgs failed to converge. Increase the number of iterations.\n",
            "  \"of iterations.\", ConvergenceWarning)\n",
            "/usr/local/lib/python3.6/dist-packages/sklearn/linear_model/logistic.py:947: ConvergenceWarning: lbfgs failed to converge. Increase the number of iterations.\n",
            "  \"of iterations.\", ConvergenceWarning)\n"
          ],
          "name": "stderr"
        }
      ]
    },
    {
      "cell_type": "code",
      "metadata": {
        "id": "zfYeV6nJH_gZ",
        "colab_type": "code",
        "colab": {
          "base_uri": "https://localhost:8080/",
          "height": 34
        },
        "outputId": "907ebc09-7427-4144-cf1a-03f82253764e"
      },
      "source": [
        "# Avaliar os resultados\n",
        "# acuracia\n",
        "# metrica da acuracia = testa a quantidade de testes dentro da quantidade de acertos\n",
        "# modelo com 92% de acuracia\n",
        "accuracy_score(y_test, yhat)"
      ],
      "execution_count": 28,
      "outputs": [
        {
          "output_type": "execute_result",
          "data": {
            "text/plain": [
              "0.9274"
            ]
          },
          "metadata": {
            "tags": []
          },
          "execution_count": 28
        }
      ]
    },
    {
      "cell_type": "code",
      "metadata": {
        "id": "sLU0cLzlIma4",
        "colab_type": "code",
        "colab": {
          "base_uri": "https://localhost:8080/",
          "height": 34
        },
        "outputId": "c7fc07d5-bad7-4524-df18-b2429ab72e0f"
      },
      "source": [
        "# area debaixo da curva\n",
        "# 0,5 ajuste pessimo > 1 ajuste otimo\n",
        "roc_auc_score(y_test, yhat)\n",
        "# resultado= modelo pessimo = 0,5"
      ],
      "execution_count": 29,
      "outputs": [
        {
          "output_type": "execute_result",
          "data": {
            "text/plain": [
              "0.5"
            ]
          },
          "metadata": {
            "tags": []
          },
          "execution_count": 29
        }
      ]
    },
    {
      "cell_type": "code",
      "metadata": {
        "id": "AgkM0t0mI4so",
        "colab_type": "code",
        "colab": {
          "base_uri": "https://localhost:8080/",
          "height": 51
        },
        "outputId": "f549a6e4-d694-41a2-c35e-0acd75ac8ac0"
      },
      "source": [
        "confusion_matrix(y_test, yhat)\n",
        "# 13000 casos que eram negativos, e ele acertou a previsao # 1089 eram positivos e nao acertou a previsao"
      ],
      "execution_count": 30,
      "outputs": [
        {
          "output_type": "execute_result",
          "data": {
            "text/plain": [
              "array([[13911,     0],\n",
              "       [ 1089,     0]])"
            ]
          },
          "metadata": {
            "tags": []
          },
          "execution_count": 30
        }
      ]
    },
    {
      "cell_type": "markdown",
      "metadata": {
        "id": "lWoe7IYbJV5H",
        "colab_type": "text"
      },
      "source": [
        "#### O MODELO APRESENTA QUEM NAO QUER CANCELAR O PACOTE DE SERVIÇOS, E NÃO É ESSA A PREVISÃO DESEJADA. "
      ]
    },
    {
      "cell_type": "code",
      "metadata": {
        "id": "9t9bT-I9JjAX",
        "colab_type": "code",
        "colab": {
          "base_uri": "https://localhost:8080/",
          "height": 68
        },
        "outputId": "5502e151-d985-4b4c-a0ff-e74529786d8b"
      },
      "source": [
        "# Observando com mais cuidade a variável resposta\n",
        "y[0].value_counts() / y[0].value_counts().sum()"
      ],
      "execution_count": 31,
      "outputs": [
        {
          "output_type": "execute_result",
          "data": {
            "text/plain": [
              "-1    0.92656\n",
              " 1    0.07344\n",
              "Name: 0, dtype: float64"
            ]
          },
          "metadata": {
            "tags": []
          },
          "execution_count": 31
        }
      ]
    },
    {
      "cell_type": "code",
      "metadata": {
        "id": "mRp2wzHYJyF3",
        "colab_type": "code",
        "colab": {
          "base_uri": "https://localhost:8080/",
          "height": 71
        },
        "outputId": "90aadcc1-fa9b-45db-f728-7423a4d29f89"
      },
      "source": [
        "# Balancear a variável resposta com SMOTE = técnica de oversampling\n",
        "# replica dados # fabrica dados com \"sujeiras\"\n",
        "sm = SMOTE(random_state=3)\n",
        "### IMP não faz sentido balancear dados de teste, pois dados de teste so vai ser feito um teste. Apenas dados de TREINO(train)\n",
        "x_res, y_res = sm.fit_resample(x_train, y_train)"
      ],
      "execution_count": 32,
      "outputs": [
        {
          "output_type": "stream",
          "text": [
            "/usr/local/lib/python3.6/dist-packages/sklearn/utils/validation.py:724: DataConversionWarning: A column-vector y was passed when a 1d array was expected. Please change the shape of y to (n_samples, ), for example using ravel().\n",
            "  y = column_or_1d(y, warn=True)\n"
          ],
          "name": "stderr"
        }
      ]
    },
    {
      "cell_type": "code",
      "metadata": {
        "id": "s9eDrQDGLZi7",
        "colab_type": "code",
        "colab": {
          "base_uri": "https://localhost:8080/",
          "height": 68
        },
        "outputId": "8c942c48-433e-4553-92ba-3ef4188dd621"
      },
      "source": [
        "pd.DataFrame(y_res)[0].value_counts()\n",
        "# replicou"
      ],
      "execution_count": 33,
      "outputs": [
        {
          "output_type": "execute_result",
          "data": {
            "text/plain": [
              "-1    32417\n",
              " 1    32417\n",
              "Name: 0, dtype: int64"
            ]
          },
          "metadata": {
            "tags": []
          },
          "execution_count": 33
        }
      ]
    },
    {
      "cell_type": "code",
      "metadata": {
        "id": "i1htoSYdL5NB",
        "colab_type": "code",
        "colab": {}
      },
      "source": [
        "modelsm = LogisticRegressionCV(cv=10)\n",
        "modelsm.fit(x_res, y_res)\n",
        "yhatsm = modelsm.predict(x_test)"
      ],
      "execution_count": 0,
      "outputs": []
    },
    {
      "cell_type": "code",
      "metadata": {
        "id": "XoqiigGbMSa9",
        "colab_type": "code",
        "colab": {
          "base_uri": "https://localhost:8080/",
          "height": 34
        },
        "outputId": "50d5abc8-350d-4ec9-9a1c-67e6fa6b6f77"
      },
      "source": [
        "# Avaliando o ajudte dos resultados\n",
        "accuracy_score(y_test, yhatsm)"
      ],
      "execution_count": 35,
      "outputs": [
        {
          "output_type": "execute_result",
          "data": {
            "text/plain": [
              "0.4391333333333333"
            ]
          },
          "metadata": {
            "tags": []
          },
          "execution_count": 35
        }
      ]
    },
    {
      "cell_type": "code",
      "metadata": {
        "id": "sHY1E4AvMi8R",
        "colab_type": "code",
        "colab": {
          "base_uri": "https://localhost:8080/",
          "height": 34
        },
        "outputId": "0946c9eb-af97-46d5-9888-6a63b9ccbec5"
      },
      "source": [
        "roc_auc_score(y_test, yhatsm)"
      ],
      "execution_count": 36,
      "outputs": [
        {
          "output_type": "execute_result",
          "data": {
            "text/plain": [
              "0.547379513962532"
            ]
          },
          "metadata": {
            "tags": []
          },
          "execution_count": 36
        }
      ]
    },
    {
      "cell_type": "code",
      "metadata": {
        "id": "GR8bVPxUM8vE",
        "colab_type": "code",
        "colab": {
          "base_uri": "https://localhost:8080/",
          "height": 51
        },
        "outputId": "a7eca43d-3d01-4c7e-a453-a38fa9c264b2"
      },
      "source": [
        "confusion_matrix(y_test, yhatsm) # errando mais casos negativos, que ele deduz ser positivos # mas está acertando alguns casos positivos\n",
        "# melhorou a previsão para quem deseja cancelar o serviço"
      ],
      "execution_count": 37,
      "outputs": [
        {
          "output_type": "execute_result",
          "data": {
            "text/plain": [
              "array([[5853, 8058],\n",
              "       [ 355,  734]])"
            ]
          },
          "metadata": {
            "tags": []
          },
          "execution_count": 37
        }
      ]
    },
    {
      "cell_type": "markdown",
      "metadata": {
        "id": "7e_C4kB2N95R",
        "colab_type": "text"
      },
      "source": [
        "Pegar o banco de dados da orange e indicar qual os tres indicadores chaves \n",
        "\n",
        "------- diferença ter melhor pre processamento"
      ]
    }
  ]
}